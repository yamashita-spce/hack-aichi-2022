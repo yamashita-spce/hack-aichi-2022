{
 "cells": [
  {
   "cell_type": "code",
   "execution_count": 45,
   "metadata": {},
   "outputs": [
    {
     "name": "stdout",
     "output_type": "stream",
     "text": [
      "         20        40                                        44          47  \\\n",
      "0        近畿  20221008  a3M1oMGrFWAS0ppjbZjjg2qwjgdNr33ab60whViI   Product29   \n",
      "1        東京  20221008  91ngS7moyuvsrXc4cLSSCToqj4oPXEfQGzJ75mrn   Product11   \n",
      "2      北陸信越  20221008  MjR1TSbHhxLtevpXoGWChazaWgP9GIKrzxKZ6tY2   Product20   \n",
      "3        東京  20221008  sNT2FIhR6yeijaTeAZBys4dzY420oDSP9m9HWNOD   Product21   \n",
      "4        東北  20221008  PFXBGMM8dsu8AySw3bh13PEVaUyMpDkM6RFUwrxM   Product22   \n",
      "...     ...       ...                                       ...         ...   \n",
      "37864    近畿  20180214  sNT2FIhR6yeijaTeAZBys4dzY420oDSP9m9HWNOD   Product21   \n",
      "37865  北陸信越  20180213  sNT2FIhR6yeijaTeAZBys4dzY420oDSP9m9HWNOD   Product21   \n",
      "37866    東北  20180212  sNT2FIhR6yeijaTeAZBys4dzY420oDSP9m9HWNOD   Product21   \n",
      "37867    東京  20180211  sNT2FIhR6yeijaTeAZBys4dzY420oDSP9m9HWNOD   Product21   \n",
      "37868    近畿  20180210  sNT2FIhR6yeijaTeAZBys4dzY420oDSP9m9HWNOD   Product21   \n",
      "\n",
      "        52  \n",
      "0       38  \n",
      "1      121  \n",
      "2       54  \n",
      "3      273  \n",
      "4        9  \n",
      "...    ...  \n",
      "37864  184  \n",
      "37865  198  \n",
      "37866  295  \n",
      "37867  239  \n",
      "37868  195  \n",
      "\n",
      "[37869 rows x 5 columns]\n",
      "                                          1    44          68\n",
      "0   nhIkyPVRyCBo8prlytyqjgWDwfKBNuOr7AS5PdyQ  865         NaN\n",
      "1   K6HP191hgQUn3KoD26vtznDd1oGtVyqLoyQ7Xsr8  750         NaN\n",
      "2   4fuQiVPU80T0vHFwEXcPqJr9WYjCbMxgFdJ25FE6  946         NaN\n",
      "3   7395asTzk6k6Ns7v2S68qzRMETDBQFgy7VBovobS  354         NaN\n",
      "4   9AQVe9lV4TEQNBijSro9Vkv0mUpr7mfRRatTMu5A   35         NaN\n",
      "5   4opACXBiS8d2HSlLRZJlwbLeWRMXNcncapvAGb1D  141         NaN\n",
      "6   wcUO7EXWGWfeBMKpQBbu57JmIfr9GtBodWGGObQR  473         NaN\n",
      "7   54obFqWd478JILltuGsALO4mGvwVDx01KEdbFnS6  849         NaN\n",
      "8   FGdP6k9V2ImyvjF7EZuphIZe5ms3IcgZwZbWtcaN  194         NaN\n",
      "9   x1uZQoJMF8BaCw5zdiFlL8ceo9omgG1kbeF0AxUQ  765         NaN\n",
      "10  NloDP0ZkRXXROmYUnUB9hCiolnr7bW71b16D3QQ9    0  20200824.0\n",
      "11  91ngS7moyuvsrXc4cLSSCToqj4oPXEfQGzJ75mrn  163         NaN\n",
      "12  H1rqSTX6eqGZQv4LzjEbx2A8J6231TPthReT9K8i  200         NaN\n",
      "13  fVYOTNDtQrildjRU1bU4sdqUTGGY3732Mo7Vrg8n    0  20200204.0\n",
      "14  PS7WYI54gBiybiolFnb1JAarBRan33qlLKSgULQp  743         NaN\n",
      "15  A0ox1wEXxEvj7ldCJM6Q8c4tABFCS21tkmhQ8FzZ  125         NaN\n",
      "16  qdCziEliwnjxC7FgvtPz4z2lOw731f4m9ECLNr07  359         NaN\n",
      "17  I6NwMKo1AA7iM1POCG60nhciyDQOB3ZMUg0tPTpP  350         NaN\n",
      "18  AND28BvToPewn0LrWRffERRo4dMgH1z66gZXxtfv  871         NaN\n",
      "19  ns4qwom4jXHFhq9KIWDx3TnSCOCXQewi0L8oIuVp    0  20210716.0\n",
      "20  MjR1TSbHhxLtevpXoGWChazaWgP9GIKrzxKZ6tY2   97         NaN\n",
      "21  sNT2FIhR6yeijaTeAZBys4dzY420oDSP9m9HWNOD  891         NaN\n",
      "22  PFXBGMM8dsu8AySw3bh13PEVaUyMpDkM6RFUwrxM   96         NaN\n",
      "23  LOjdMxMzGQXyGn1CuxIPtwcsf9WgVNvi98YaaaYN  152         NaN\n",
      "24  MPfLvajZOhdsxFiezllkt193W77nmBeSN4uaza9B  406         NaN\n",
      "25  A1g45WbIoBhdnVFH6FjCg9agd2xsqZvJBH3ngxr2  130         NaN\n",
      "26  sHqwVMvkvcJrDG6LeXvRFIoY02uIz2JcsMLH53fS  679         NaN\n",
      "27  QXmtyVJ4aphPAQt8lkNaMHEzCAQv28t5iWxSOMqL  425         NaN\n",
      "28  uNdcG8SXzB3IJEdqhHp8HQbCkfQwhMR9dRjQPHtu  195         NaN\n",
      "29  a3M1oMGrFWAS0ppjbZjjg2qwjgdNr33ab60whViI  330         NaN\n"
     ]
    }
   ],
   "source": [
    "# 線形モデルによる重回帰分析\n",
    "import numpy as np\n",
    "import pandas as pd\n",
    "import matplotlib.pyplot as plt\n",
    "import datetime\n",
    "\n",
    "# 読込\n",
    "df = pd.read_csv(\"../sort_demo_shipment_result.csv\", encoding=\"cp932\")\n",
    "df = df.iloc[:, [20, 40, 44, 47, 52]]\n",
    "print(df)\n",
    "\n",
    "#マスタデータ読み込み\n",
    "df_master = pd.read_csv(\"../dummy_product_master.csv\", encoding=\"cp932\", header=None)\n",
    "df_master = df_master.iloc[:, [1, 44, 68]]\n",
    "print(df_master)"
   ]
  },
  {
   "cell_type": "code",
   "execution_count": 126,
   "metadata": {
    "scrolled": true
   },
   "outputs": [
    {
     "name": "stdout",
     "output_type": "stream",
     "text": [
      "<class 'numpy.ndarray'>\n",
      "[' Product29' ' Product11' ' Product20' ' Product21' ' Product22']\n",
      "30\n",
      "2022-10-09\n",
      "[[20201211. 20221008.]\n",
      " [20210413. 20221008.]\n",
      " [20210824. 20221008.]\n",
      " [20180210. 20221008.]\n",
      " [20191223. 20221008.]\n",
      " [20200821. 20221008.]]\n"
     ]
    }
   ],
   "source": [
    "# １日おきの各商品の出荷数をまとめる\n",
    "\n",
    "\n",
    "# ユニークな商品の数をカウント\n",
    "pcode = df[\"44\"].unique() #実際は商品名に重複がある可能性があるので、商品コードで判別\n",
    "pname = df[\"47\"].unique()\n",
    "print(type(pcode))\n",
    "print(pname[0:5]) \n",
    "print(len(pname))\n",
    "\n",
    "# 今日の日にち（string)\n",
    "now = \"20221009\"\n",
    "\n",
    "# 日付初期値\n",
    "initdate = datetime.date(2018, 1, 1)\n",
    "# 当日\n",
    "nowdate = datetime.date(int(now[0:4]), int(now[4:6]), int(now[6:8]))\n",
    "print(nowdate)\n",
    "# 差日\n",
    "difdate = nowdate - initdate\n",
    "\n",
    "# 初回販売日と最終販売日を格納する配列\n",
    "masterdate_data = np.zeros((len(pcode), 2))\n",
    "\n",
    "for i in range(len(pcode)):\n",
    "    idf = df[df[\"44\"] == pcode[i]]\n",
    "    idf = idf.loc[:, [\"40\", \"52\"]]\n",
    "    \n",
    "#     最初の出荷日\n",
    "    min_date = str(idf[\"40\"].min())\n",
    "    min_date = datetime.date(int(min_date[0:4]), int(min_date[4:6]), int(min_date[6:8]))\n",
    "    \n",
    "#     最後の出荷日\n",
    "    max_date = str(idf[\"40\"].max())\n",
    "    max_date = datetime.date(int(max_date[0:4]), int(max_date[4:6]), int(max_date[6:8]))\n",
    "    \n",
    "    masterdate_data[i] = np.array([min_date.strftime(\"%Y%m%d\"), max_date.strftime(\"%Y%m%d\")])\n",
    "\n",
    "print(masterdate_data[0:6])"
   ]
  },
  {
   "cell_type": "code",
   "execution_count": 117,
   "metadata": {},
   "outputs": [
    {
     "name": "stdout",
     "output_type": "stream",
     "text": [
      "[ 0  1  2  3  4  5  6  7  8  9 10 11 12 13 14 15 16 17 18 19 20 21 22 23\n",
      " 24 25 26]\n"
     ]
    }
   ],
   "source": [
    "# 20221008時点で販売・出荷を継続している商品だけを抽出\n",
    "oindex = np.where(masterdate_data.T[1] == 20221008) #データと商品コードを紐づけるインデックス\n",
    "oindex = oindex[0]\n",
    "print(oindex)"
   ]
  },
  {
   "cell_type": "code",
   "execution_count": 138,
   "metadata": {},
   "outputs": [
    {
     "name": "stdout",
     "output_type": "stream",
     "text": [
      "667\n",
      "544\n",
      "411\n",
      "1702\n",
      "1021\n",
      "779\n",
      "429\n",
      "290\n",
      "880\n",
      "1573\n",
      "991\n",
      "1563\n",
      "718\n",
      "1554\n",
      "1145\n",
      "649\n",
      "564\n",
      "640\n",
      "251\n",
      "580\n",
      "849\n",
      "1596\n",
      "1145\n",
      "230\n",
      "136\n",
      "1259\n",
      "1330\n",
      "[[  0.   0.   0. ...  65.  73.  67.]\n",
      " [  0.   0.   0. ... 106.  94. 121.]\n",
      " [  0.   0.   0. ...  44.  52.  54.]\n",
      " [  0.   0.   0. ... 229. 260. 273.]\n",
      " [  0.   0.   0. ...  25.  21.  19.]]\n",
      "[[20201211. 20221008.]\n",
      " [20210413. 20221008.]\n",
      " [20210824. 20221008.]\n",
      " [20180210. 20221008.]\n",
      " [20191223. 20221008.]]\n"
     ]
    }
   ],
   "source": [
    "#  ================================================一日おきではない分析ではここから別のコードへ=================================================================   \n",
    "\n",
    "# 出荷データ格納配列\n",
    "data = np.zeros((len(oindex), difdate.days))\n",
    "\n",
    "for i in range(len(oindex)):\n",
    "    \n",
    "#     販売初日\n",
    "    min_date = datetime.date(int(str(masterdate_data[oindex[i]][0])[0:4]), int(str(masterdate_data[oindex[i]][0])[4:6]), int(str(masterdate_data[oindex[i]][0])[6:8]))\n",
    "     \n",
    "    #    販売総日にち\n",
    "    sumday = nowdate - min_date   \n",
    "    sumday = sumday.days\n",
    "    print(sumday)\n",
    "    \n",
    "#     日付初期値と最初の出荷日の差日\n",
    "    dday = min_date - initdate\n",
    "    dday = dday.days\n",
    "    \n",
    "#     抽出\n",
    "    idf = df[df[\"44\"] == pcode[oindex[i]]]\n",
    "    idf = idf.loc[:, [\"40\", \"52\"]]\n",
    "    \n",
    "    for j in range(sumday):\n",
    "        \n",
    "        idate = min_date + datetime.timedelta(days=j)\n",
    "        idate = idate.strftime(\"%Y%m%d\")\n",
    "        \n",
    "        idf_samedate = idf[idf[\"40\"] == int(idate)]\n",
    "        \n",
    "        data[i][j+dday] = idf_samedate[\"52\"].sum()   \n",
    "    \n",
    "# ==================================================================================================================================================\n",
    "\n",
    "\n",
    "print(data[0:5])\n",
    "print(masterdate_data[0:5])\n",
    "\n",
    "\n"
   ]
  },
  {
   "cell_type": "code",
   "execution_count": 96,
   "metadata": {},
   "outputs": [
    {
     "name": "stdout",
     "output_type": "stream",
     "text": [
      "2022-10-08\n",
      "(array([ 0,  1,  2,  3,  4,  5,  6,  7,  8,  9, 10, 11, 12, 13, 14, 15, 16,\n",
      "       17, 18, 19, 20, 21, 22, 23, 24, 25, 26], dtype=int64),)\n"
     ]
    }
   ],
   "source": [
    "\n",
    "yesterday = nowdate - datetime.timedelta(days=1)\n",
    "print(yesterday)\n",
    "\n",
    "\n",
    "\n"
   ]
  }
 ],
 "metadata": {
  "kernelspec": {
   "display_name": "Python 3",
   "language": "python",
   "name": "python3"
  },
  "language_info": {
   "codemirror_mode": {
    "name": "ipython",
    "version": 3
   },
   "file_extension": ".py",
   "mimetype": "text/x-python",
   "name": "python",
   "nbconvert_exporter": "python",
   "pygments_lexer": "ipython3",
   "version": "3.8.8"
  }
 },
 "nbformat": 4,
 "nbformat_minor": 2
}
